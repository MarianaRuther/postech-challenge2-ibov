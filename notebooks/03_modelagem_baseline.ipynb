{
 "cells": [
  {
   "cell_type": "markdown",
   "metadata": {},
   "source": [
    "# 03 — Modelagem Baseline (Logística e Árvore)\n",
    "\n",
    "Objetivo: usar os features criados no `02_target_features.ipynb` para treinar e avaliar modelos simples.\n",
    "\n",
    "- Carregar `ibov_features.parquet`\n",
    "- Dividir dados em treino (tudo menos últimos 30 dias) e teste (últimos 30 dias)\n",
    "- Treinar **Regressão Logística** e **Árvore de Decisão**\n",
    "- Avaliar com **accuracy, classification report e matriz de confusão**\n"
   ]
  },
  {
   "cell_type": "code",
   "execution_count": 1,
   "metadata": {},
   "outputs": [],
   "source": [
    "import pandas as pd, numpy as np\n",
    "from pathlib import Path\n",
    "import matplotlib.pyplot as plt\n",
    "import seaborn as sns\n",
    "\n",
    "from sklearn.model_selection import train_test_split\n",
    "from sklearn.linear_model import LogisticRegression\n",
    "from sklearn.tree import DecisionTreeClassifier\n",
    "from sklearn.metrics import accuracy_score, classification_report, confusion_matrix\n"
   ]
  },
  {
   "cell_type": "code",
   "execution_count": 2,
   "metadata": {},
   "outputs": [
    {
     "name": "stdout",
     "output_type": "stream",
     "text": [
      "(3870, 25)\n"
     ]
    },
    {
     "data": {
      "text/html": [
       "<div>\n",
       "<style scoped>\n",
       "    .dataframe tbody tr th:only-of-type {\n",
       "        vertical-align: middle;\n",
       "    }\n",
       "\n",
       "    .dataframe tbody tr th {\n",
       "        vertical-align: top;\n",
       "    }\n",
       "\n",
       "    .dataframe thead th {\n",
       "        text-align: right;\n",
       "    }\n",
       "</style>\n",
       "<table border=\"1\" class=\"dataframe\">\n",
       "  <thead>\n",
       "    <tr style=\"text-align: right;\">\n",
       "      <th></th>\n",
       "      <th>ultimo</th>\n",
       "      <th>maxima</th>\n",
       "      <th>minima</th>\n",
       "      <th>abertura</th>\n",
       "      <th>vol</th>\n",
       "      <th>return_d1</th>\n",
       "      <th>var_pct</th>\n",
       "      <th>log_vol</th>\n",
       "      <th>close_lag1</th>\n",
       "      <th>return_lag1</th>\n",
       "      <th>...</th>\n",
       "      <th>return_lag5</th>\n",
       "      <th>close_lag10</th>\n",
       "      <th>return_lag10</th>\n",
       "      <th>return_acc_5</th>\n",
       "      <th>vol_5</th>\n",
       "      <th>return_acc_10</th>\n",
       "      <th>vol_10</th>\n",
       "      <th>return_acc_20</th>\n",
       "      <th>vol_20</th>\n",
       "      <th>target_next_day_up</th>\n",
       "    </tr>\n",
       "    <tr>\n",
       "      <th>Date</th>\n",
       "      <th></th>\n",
       "      <th></th>\n",
       "      <th></th>\n",
       "      <th></th>\n",
       "      <th></th>\n",
       "      <th></th>\n",
       "      <th></th>\n",
       "      <th></th>\n",
       "      <th></th>\n",
       "      <th></th>\n",
       "      <th></th>\n",
       "      <th></th>\n",
       "      <th></th>\n",
       "      <th></th>\n",
       "      <th></th>\n",
       "      <th></th>\n",
       "      <th></th>\n",
       "      <th></th>\n",
       "      <th></th>\n",
       "      <th></th>\n",
       "      <th></th>\n",
       "    </tr>\n",
       "  </thead>\n",
       "  <tbody>\n",
       "    <tr>\n",
       "      <th>2010-02-03</th>\n",
       "      <td>67109.0</td>\n",
       "      <td>67347.0</td>\n",
       "      <td>66774.0</td>\n",
       "      <td>67163.0</td>\n",
       "      <td>1765000</td>\n",
       "      <td>-0.000804</td>\n",
       "      <td>-0.000804</td>\n",
       "      <td>14.383662</td>\n",
       "      <td>67163.0</td>\n",
       "      <td>0.008878</td>\n",
       "      <td>...</td>\n",
       "      <td>-0.006929</td>\n",
       "      <td>69909.0</td>\n",
       "      <td>0.007320</td>\n",
       "      <td>0.031088</td>\n",
       "      <td>1663960.0</td>\n",
       "      <td>-0.039851</td>\n",
       "      <td>1768320.0</td>\n",
       "      <td>-0.044364</td>\n",
       "      <td>1703680.0</td>\n",
       "      <td>0</td>\n",
       "    </tr>\n",
       "    <tr>\n",
       "      <th>2010-02-04</th>\n",
       "      <td>63934.0</td>\n",
       "      <td>67100.0</td>\n",
       "      <td>63750.0</td>\n",
       "      <td>67100.0</td>\n",
       "      <td>2262400</td>\n",
       "      <td>-0.047311</td>\n",
       "      <td>-0.047311</td>\n",
       "      <td>14.631937</td>\n",
       "      <td>67109.0</td>\n",
       "      <td>-0.000804</td>\n",
       "      <td>...</td>\n",
       "      <td>0.007961</td>\n",
       "      <td>68200.0</td>\n",
       "      <td>-0.024446</td>\n",
       "      <td>-0.024184</td>\n",
       "      <td>1786560.0</td>\n",
       "      <td>-0.062716</td>\n",
       "      <td>1795500.0</td>\n",
       "      <td>-0.098637</td>\n",
       "      <td>1704620.0</td>\n",
       "      <td>0</td>\n",
       "    </tr>\n",
       "    <tr>\n",
       "      <th>2010-02-05</th>\n",
       "      <td>62763.0</td>\n",
       "      <td>64001.0</td>\n",
       "      <td>61341.0</td>\n",
       "      <td>63934.0</td>\n",
       "      <td>3053000</td>\n",
       "      <td>-0.018316</td>\n",
       "      <td>-0.018316</td>\n",
       "      <td>14.931636</td>\n",
       "      <td>63934.0</td>\n",
       "      <td>-0.047311</td>\n",
       "      <td>...</td>\n",
       "      <td>-0.002836</td>\n",
       "      <td>66270.0</td>\n",
       "      <td>-0.028299</td>\n",
       "      <td>-0.039664</td>\n",
       "      <td>2032520.0</td>\n",
       "      <td>-0.052733</td>\n",
       "      <td>1874420.0</td>\n",
       "      <td>-0.113022</td>\n",
       "      <td>1779520.0</td>\n",
       "      <td>1</td>\n",
       "    </tr>\n",
       "  </tbody>\n",
       "</table>\n",
       "<p>3 rows × 25 columns</p>\n",
       "</div>"
      ],
      "text/plain": [
       "             ultimo   maxima   minima  abertura      vol  return_d1   var_pct  \\\n",
       "Date                                                                            \n",
       "2010-02-03  67109.0  67347.0  66774.0   67163.0  1765000  -0.000804 -0.000804   \n",
       "2010-02-04  63934.0  67100.0  63750.0   67100.0  2262400  -0.047311 -0.047311   \n",
       "2010-02-05  62763.0  64001.0  61341.0   63934.0  3053000  -0.018316 -0.018316   \n",
       "\n",
       "              log_vol  close_lag1  return_lag1  ...  return_lag5  close_lag10  \\\n",
       "Date                                            ...                             \n",
       "2010-02-03  14.383662     67163.0     0.008878  ...    -0.006929      69909.0   \n",
       "2010-02-04  14.631937     67109.0    -0.000804  ...     0.007961      68200.0   \n",
       "2010-02-05  14.931636     63934.0    -0.047311  ...    -0.002836      66270.0   \n",
       "\n",
       "            return_lag10  return_acc_5      vol_5  return_acc_10     vol_10  \\\n",
       "Date                                                                          \n",
       "2010-02-03      0.007320      0.031088  1663960.0      -0.039851  1768320.0   \n",
       "2010-02-04     -0.024446     -0.024184  1786560.0      -0.062716  1795500.0   \n",
       "2010-02-05     -0.028299     -0.039664  2032520.0      -0.052733  1874420.0   \n",
       "\n",
       "            return_acc_20     vol_20  target_next_day_up  \n",
       "Date                                                      \n",
       "2010-02-03      -0.044364  1703680.0                   0  \n",
       "2010-02-04      -0.098637  1704620.0                   0  \n",
       "2010-02-05      -0.113022  1779520.0                   1  \n",
       "\n",
       "[3 rows x 25 columns]"
      ]
     },
     "execution_count": 2,
     "metadata": {},
     "output_type": "execute_result"
    }
   ],
   "source": [
    "# carregar features\n",
    "root = Path('.').resolve()\n",
    "in_path = root / 'data' / 'processed' / 'ibov_features.parquet'\n",
    "df = pd.read_parquet(in_path)\n",
    "print(df.shape)\n",
    "df.head(3)"
   ]
  },
  {
   "cell_type": "code",
   "execution_count": 5,
   "metadata": {},
   "outputs": [],
   "source": [
    "# separar X (features) e y (target)\n",
    "y = df['target_next_day_up']\n",
    "X = df.drop(columns=['target_next_day_up'])"
   ]
  },
  {
   "cell_type": "code",
   "execution_count": 6,
   "metadata": {},
   "outputs": [
    {
     "name": "stdout",
     "output_type": "stream",
     "text": [
      "(3840, 24) (30, 24)\n"
     ]
    }
   ],
   "source": [
    "# split temporal: treino = tudo menos últimos 30 dias, teste = últimos 30 dias\n",
    "X_train, X_test = X.iloc[:-30], X.iloc[-30:]\n",
    "y_train, y_test = y.iloc[:-30], y.iloc[-30:]\n",
    "\n",
    "print(X_train.shape, X_test.shape)"
   ]
  },
  {
   "cell_type": "code",
   "execution_count": 10,
   "metadata": {},
   "outputs": [
    {
     "name": "stdout",
     "output_type": "stream",
     "text": [
      "Acurácia Regressão Logística (teste): 40.00%\n",
      "              precision    recall  f1-score   support\n",
      "\n",
      "           0       0.36      0.27      0.31        15\n",
      "           1       0.42      0.53      0.47        15\n",
      "\n",
      "    accuracy                           0.40        30\n",
      "   macro avg       0.39      0.40      0.39        30\n",
      "weighted avg       0.39      0.40      0.39        30\n",
      "\n"
     ]
    },
    {
     "name": "stderr",
     "output_type": "stream",
     "text": [
      "c:\\Users\\mruther\\AppData\\Local\\Programs\\Python\\Python313\\Lib\\site-packages\\sklearn\\linear_model\\_logistic.py:473: ConvergenceWarning: lbfgs failed to converge after 1000 iteration(s) (status=1):\n",
      "STOP: TOTAL NO. OF ITERATIONS REACHED LIMIT\n",
      "\n",
      "Increase the number of iterations to improve the convergence (max_iter=1000).\n",
      "You might also want to scale the data as shown in:\n",
      "    https://scikit-learn.org/stable/modules/preprocessing.html\n",
      "Please also refer to the documentation for alternative solver options:\n",
      "    https://scikit-learn.org/stable/modules/linear_model.html#logistic-regression\n",
      "  n_iter_i = _check_optimize_result(\n"
     ]
    }
   ],
   "source": [
    "# modelo 1 — Regressão Logística\n",
    "log_reg = LogisticRegression(max_iter=1000)\n",
    "log_reg.fit(X_train, y_train)\n",
    "y_pred_log = log_reg.predict(X_test)\n",
    "acc_log = accuracy_score(y_test, y_pred_log)\n",
    "print(f'Acurácia Regressão Logística (teste): {acc_log:.2%}')\n",
    "print(classification_report(y_test, y_pred_log))"
   ]
  },
  {
   "cell_type": "code",
   "execution_count": 11,
   "metadata": {},
   "outputs": [
    {
     "data": {
      "image/png": "[encoded data removed]",
      "text/plain": [
       "<Figure size 640x480 with 2 Axes>"
      ]
     },
     "metadata": {},
     "output_type": "display_data"
    }
   ],
   "source": [
    "# matriz de confusão\n",
    "cm_log = confusion_matrix(y_test, y_pred_log)\n",
    "sns.heatmap(cm_log, annot=True, fmt='d', cmap='Blues')\n",
    "plt.title('Matriz de Confusão - Logística')\n",
    "plt.xlabel('Previsto'); plt.ylabel('Real')\n",
    "plt.show()"
   ]
  },
  {
   "cell_type": "code",
   "execution_count": 12,
   "metadata": {},
   "outputs": [
    {
     "name": "stdout",
     "output_type": "stream",
     "text": [
      "Acurácia Árvore de Decisão (teste): 46.67%\n",
      "              precision    recall  f1-score   support\n",
      "\n",
      "           0       0.43      0.20      0.27        15\n",
      "           1       0.48      0.73      0.58        15\n",
      "\n",
      "    accuracy                           0.47        30\n",
      "   macro avg       0.45      0.47      0.43        30\n",
      "weighted avg       0.45      0.47      0.43        30\n",
      "\n"
     ]
    }
   ],
   "source": [
    "# modelo 2 — Árvore de Decisão\n",
    "tree = DecisionTreeClassifier(random_state=42, max_depth=5)\n",
    "tree.fit(X_train, y_train)\n",
    "y_pred_tree = tree.predict(X_test)\n",
    "acc_tree = accuracy_score(y_test, y_pred_tree)\n",
    "print(f'Acurácia Árvore de Decisão (teste): {acc_tree:.2%}')\n",
    "print(classification_report(y_test, y_pred_tree))"
   ]
  },
  {
   "cell_type": "code",
   "execution_count": 13,
   "metadata": {},
   "outputs": [
    {
     "data": {
      "image/png": "[encoded data removed]",
      "text/plain": [
       "<Figure size 640x480 with 2 Axes>"
      ]
     },
     "metadata": {},
     "output_type": "display_data"
    }
   ],
   "source": [
    "# matriz de confusão\n",
    "cm_tree = confusion_matrix(y_test, y_pred_tree)\n",
    "sns.heatmap(cm_tree, annot=True, fmt='d', cmap='Blues')\n",
    "plt.title('Matriz de Confusão - Árvore')\n",
    "plt.xlabel('Previsto'); plt.ylabel('Real')\n",
    "plt.show()"
   ]
  }
 ],
 "metadata": {
  "kernelspec": {
   "display_name": "Python 3",
   "language": "python",
   "name": "python3"
  },
  "language_info": {
   "codemirror_mode": {
    "name": "ipython",
    "version": 3
   },
   "file_extension": ".py",
   "mimetype": "text/x-python",
   "name": "python",
   "nbconvert_exporter": "python",
   "pygments_lexer": "ipython3",
   "version": "3.13.3"
  }
 },
 "nbformat": 4,
 "nbformat_minor": 2
}
