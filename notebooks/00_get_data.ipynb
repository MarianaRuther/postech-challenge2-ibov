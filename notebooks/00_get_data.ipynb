{
 "cells": [
  {
   "cell_type": "markdown",
   "metadata": {},
   "source": [
    "# 00 — Download do IBOV\n",
    "\n",
    "Baixando o histórico do **IBOVESPA** diretamente do **Yahoo Finance** (`^BVSP`).\n",
    "Período: 2010 até hoje.\n",
    "Salvo em: `data/raw/ibov_yf.csv`"
   ]
  },
  {
   "cell_type": "code",
   "execution_count": 16,
   "metadata": {},
   "outputs": [
    {
     "name": "stdout",
     "output_type": "stream",
     "text": [
      "Kernel atual: c:\\Users\\mruther\\AppData\\Local\\Programs\\Python\\Python313\\python.exe\n"
     ]
    }
   ],
   "source": [
    "import sys\n",
    "print(\"Kernel atual:\", sys.executable)\n",
    "!{sys.executable} -m pip install --upgrade pip yfinance --quiet"
   ]
  },
  {
   "cell_type": "code",
   "execution_count": 17,
   "metadata": {},
   "outputs": [
    {
     "data": {
      "text/plain": [
       "'0.2.65'"
      ]
     },
     "execution_count": 17,
     "metadata": {},
     "output_type": "execute_result"
    }
   ],
   "source": [
    "import yfinance as yf\n",
    "from pathlib import Path\n",
    "yf.__version__"
   ]
  },
  {
   "cell_type": "code",
   "execution_count": 18,
   "metadata": {},
   "outputs": [
    {
     "name": "stderr",
     "output_type": "stream",
     "text": [
      "C:\\Users\\mruther\\AppData\\Local\\Temp\\ipykernel_22036\\412365194.py:7: FutureWarning: YF.download() has changed argument auto_adjust default to True\n",
      "  ibov = yf.download(\"^BVSP\", start=\"2010-01-01\", end=None, interval=\"1d\")\n",
      "[*********************100%***********************]  1 of 1 completed"
     ]
    },
    {
     "name": "stdout",
     "output_type": "stream",
     "text": [
      "Linhas baixadas: 3891\n",
      "Período: 2010-01-04 → 2025-09-12\n"
     ]
    },
    {
     "name": "stderr",
     "output_type": "stream",
     "text": [
      "\n"
     ]
    },
    {
     "data": {
      "text/plain": [
       "'C:\\\\Users\\\\mruther\\\\Documents\\\\FIAP\\\\FASE 2\\\\postech-challenge2\\\\notebooks\\\\data\\\\raw\\\\ibov_yf.csv'"
      ]
     },
     "execution_count": 18,
     "metadata": {},
     "output_type": "execute_result"
    }
   ],
   "source": [
    "# pasta de destino\n",
    "root = Path('.').resolve()\n",
    "out_path = root / 'data' / 'raw' / 'ibov_yf.csv'\n",
    "out_path.parent.mkdir(parents=True, exist_ok=True)\n",
    "\n",
    "# baixar IBOV (^BVSP)\n",
    "ibov = yf.download(\"^BVSP\", start=\"2010-01-01\", end=None, interval=\"1d\")\n",
    "\n",
    "print(\"Linhas baixadas:\", len(ibov))\n",
    "print(\"Período:\", ibov.index.min().date(), \"→\", ibov.index.max().date())\n",
    "\n",
    "# salvar em CSV\n",
    "ibov.to_csv(out_path)\n",
    "str(out_path)"
   ]
  },
  {
   "cell_type": "code",
   "execution_count": 19,
   "metadata": {},
   "outputs": [
    {
     "data": {
      "text/html": [
       "<div>\n",
       "<style scoped>\n",
       "    .dataframe tbody tr th:only-of-type {\n",
       "        vertical-align: middle;\n",
       "    }\n",
       "\n",
       "    .dataframe tbody tr th {\n",
       "        vertical-align: top;\n",
       "    }\n",
       "\n",
       "    .dataframe thead tr th {\n",
       "        text-align: left;\n",
       "    }\n",
       "\n",
       "    .dataframe thead tr:last-of-type th {\n",
       "        text-align: right;\n",
       "    }\n",
       "</style>\n",
       "<table border=\"1\" class=\"dataframe\">\n",
       "  <thead>\n",
       "    <tr>\n",
       "      <th>Price</th>\n",
       "      <th>Close</th>\n",
       "      <th>High</th>\n",
       "      <th>Low</th>\n",
       "      <th>Open</th>\n",
       "      <th>Volume</th>\n",
       "    </tr>\n",
       "    <tr>\n",
       "      <th>Ticker</th>\n",
       "      <th>^BVSP</th>\n",
       "      <th>^BVSP</th>\n",
       "      <th>^BVSP</th>\n",
       "      <th>^BVSP</th>\n",
       "      <th>^BVSP</th>\n",
       "    </tr>\n",
       "    <tr>\n",
       "      <th>Date</th>\n",
       "      <th></th>\n",
       "      <th></th>\n",
       "      <th></th>\n",
       "      <th></th>\n",
       "      <th></th>\n",
       "    </tr>\n",
       "  </thead>\n",
       "  <tbody>\n",
       "    <tr>\n",
       "      <th>2010-01-04</th>\n",
       "      <td>70045.0</td>\n",
       "      <td>70081.0</td>\n",
       "      <td>68587.0</td>\n",
       "      <td>68587.0</td>\n",
       "      <td>1655400</td>\n",
       "    </tr>\n",
       "    <tr>\n",
       "      <th>2010-01-05</th>\n",
       "      <td>70240.0</td>\n",
       "      <td>70595.0</td>\n",
       "      <td>69928.0</td>\n",
       "      <td>70046.0</td>\n",
       "      <td>1984200</td>\n",
       "    </tr>\n",
       "    <tr>\n",
       "      <th>2010-01-06</th>\n",
       "      <td>70729.0</td>\n",
       "      <td>70937.0</td>\n",
       "      <td>70016.0</td>\n",
       "      <td>70237.0</td>\n",
       "      <td>2243600</td>\n",
       "    </tr>\n",
       "    <tr>\n",
       "      <th>2010-01-07</th>\n",
       "      <td>70451.0</td>\n",
       "      <td>70723.0</td>\n",
       "      <td>70045.0</td>\n",
       "      <td>70723.0</td>\n",
       "      <td>1555000</td>\n",
       "    </tr>\n",
       "    <tr>\n",
       "      <th>2010-01-08</th>\n",
       "      <td>70263.0</td>\n",
       "      <td>70766.0</td>\n",
       "      <td>70158.0</td>\n",
       "      <td>70455.0</td>\n",
       "      <td>1634400</td>\n",
       "    </tr>\n",
       "  </tbody>\n",
       "</table>\n",
       "</div>"
      ],
      "text/plain": [
       "Price         Close     High      Low     Open   Volume\n",
       "Ticker        ^BVSP    ^BVSP    ^BVSP    ^BVSP    ^BVSP\n",
       "Date                                                   \n",
       "2010-01-04  70045.0  70081.0  68587.0  68587.0  1655400\n",
       "2010-01-05  70240.0  70595.0  69928.0  70046.0  1984200\n",
       "2010-01-06  70729.0  70937.0  70016.0  70237.0  2243600\n",
       "2010-01-07  70451.0  70723.0  70045.0  70723.0  1555000\n",
       "2010-01-08  70263.0  70766.0  70158.0  70455.0  1634400"
      ]
     },
     "execution_count": 19,
     "metadata": {},
     "output_type": "execute_result"
    }
   ],
   "source": [
    "# preview\n",
    "ibov.head()"
   ]
  }
 ],
 "metadata": {
  "kernelspec": {
   "display_name": "Python 3",
   "language": "python",
   "name": "python3"
  },
  "language_info": {
   "codemirror_mode": {
    "name": "ipython",
    "version": 3
   },
   "file_extension": ".py",
   "mimetype": "text/x-python",
   "name": "python",
   "nbconvert_exporter": "python",
   "pygments_lexer": "ipython3",
   "version": "3.13.3"
  }
 },
 "nbformat": 4,
 "nbformat_minor": 2
}
