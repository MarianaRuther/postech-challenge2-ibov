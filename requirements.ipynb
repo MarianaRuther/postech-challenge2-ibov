{
 "cells": [
  {
   "cell_type": "code",
   "execution_count": 4,
   "id": "84ebbfdc",
   "metadata": {},
   "outputs": [
    {
     "name": "stdout",
     "output_type": "stream",
     "text": [
      "Requirement already satisfied: pandas>=2.2.0 in c:\\users\\mruther\\appdata\\local\\programs\\python\\python313\\lib\\site-packages (from -r requirements_challenge2.txt (line 1)) (2.2.3)\n",
      "Requirement already satisfied: numpy>=1.26.0 in c:\\users\\mruther\\appdata\\local\\programs\\python\\python313\\lib\\site-packages (from -r requirements_challenge2.txt (line 2)) (2.2.4)\n",
      "Requirement already satisfied: matplotlib>=3.8.0 in c:\\users\\mruther\\appdata\\local\\programs\\python\\python313\\lib\\site-packages (from -r requirements_challenge2.txt (line 3)) (3.10.1)\n",
      "Requirement already satisfied: scikit-learn>=1.4.0 in c:\\users\\mruther\\appdata\\local\\programs\\python\\python313\\lib\\site-packages (from -r requirements_challenge2.txt (line 4)) (1.7.2)\n",
      "Requirement already satisfied: pyarrow>=15.0.0 in c:\\users\\mruther\\appdata\\local\\programs\\python\\python313\\lib\\site-packages (from -r requirements_challenge2.txt (line 5)) (19.0.1)\n",
      "Requirement already satisfied: python-dateutil>=2.8.2 in c:\\users\\mruther\\appdata\\local\\programs\\python\\python313\\lib\\site-packages (from pandas>=2.2.0->-r requirements_challenge2.txt (line 1)) (2.9.0.post0)\n",
      "Requirement already satisfied: pytz>=2020.1 in c:\\users\\mruther\\appdata\\local\\programs\\python\\python313\\lib\\site-packages (from pandas>=2.2.0->-r requirements_challenge2.txt (line 1)) (2025.2)\n",
      "Requirement already satisfied: tzdata>=2022.7 in c:\\users\\mruther\\appdata\\local\\programs\\python\\python313\\lib\\site-packages (from pandas>=2.2.0->-r requirements_challenge2.txt (line 1)) (2025.2)\n",
      "Requirement already satisfied: contourpy>=1.0.1 in c:\\users\\mruther\\appdata\\local\\programs\\python\\python313\\lib\\site-packages (from matplotlib>=3.8.0->-r requirements_challenge2.txt (line 3)) (1.3.2)\n",
      "Requirement already satisfied: cycler>=0.10 in c:\\users\\mruther\\appdata\\local\\programs\\python\\python313\\lib\\site-packages (from matplotlib>=3.8.0->-r requirements_challenge2.txt (line 3)) (0.12.1)\n",
      "Requirement already satisfied: fonttools>=4.22.0 in c:\\users\\mruther\\appdata\\local\\programs\\python\\python313\\lib\\site-packages (from matplotlib>=3.8.0->-r requirements_challenge2.txt (line 3)) (4.57.0)\n",
      "Requirement already satisfied: kiwisolver>=1.3.1 in c:\\users\\mruther\\appdata\\local\\programs\\python\\python313\\lib\\site-packages (from matplotlib>=3.8.0->-r requirements_challenge2.txt (line 3)) (1.4.8)\n",
      "Requirement already satisfied: packaging>=20.0 in c:\\users\\mruther\\appdata\\local\\programs\\python\\python313\\lib\\site-packages (from matplotlib>=3.8.0->-r requirements_challenge2.txt (line 3)) (24.2)\n",
      "Requirement already satisfied: pillow>=8 in c:\\users\\mruther\\appdata\\local\\programs\\python\\python313\\lib\\site-packages (from matplotlib>=3.8.0->-r requirements_challenge2.txt (line 3)) (11.2.1)\n",
      "Requirement already satisfied: pyparsing>=2.3.1 in c:\\users\\mruther\\appdata\\local\\programs\\python\\python313\\lib\\site-packages (from matplotlib>=3.8.0->-r requirements_challenge2.txt (line 3)) (3.2.3)\n",
      "Requirement already satisfied: scipy>=1.8.0 in c:\\users\\mruther\\appdata\\local\\programs\\python\\python313\\lib\\site-packages (from scikit-learn>=1.4.0->-r requirements_challenge2.txt (line 4)) (1.16.2)\n",
      "Requirement already satisfied: joblib>=1.2.0 in c:\\users\\mruther\\appdata\\local\\programs\\python\\python313\\lib\\site-packages (from scikit-learn>=1.4.0->-r requirements_challenge2.txt (line 4)) (1.5.2)\n",
      "Requirement already satisfied: threadpoolctl>=3.1.0 in c:\\users\\mruther\\appdata\\local\\programs\\python\\python313\\lib\\site-packages (from scikit-learn>=1.4.0->-r requirements_challenge2.txt (line 4)) (3.6.0)\n",
      "Requirement already satisfied: six>=1.5 in c:\\users\\mruther\\appdata\\local\\programs\\python\\python313\\lib\\site-packages (from python-dateutil>=2.8.2->pandas>=2.2.0->-r requirements_challenge2.txt (line 1)) (1.17.0)\n",
      "Note: you may need to restart the kernel to use updated packages.\n"
     ]
    }
   ],
   "source": [
    "pip install -r requirements_challenge2.txt"
   ]
  },
  {
   "cell_type": "code",
   "execution_count": 2,
   "id": "62f51bb9",
   "metadata": {},
   "outputs": [
    {
     "name": "stdout",
     "output_type": "stream",
     "text": [
      "Requirement already satisfied: pip in c:\\users\\mruther\\appdata\\local\\programs\\python\\python313\\lib\\site-packages (25.2)\n",
      "Note: you may need to restart the kernel to use updated packages.\n"
     ]
    }
   ],
   "source": [
    "%pip install --upgrade pip"
   ]
  }
 ],
 "metadata": {
  "kernelspec": {
   "display_name": "Python 3",
   "language": "python",
   "name": "python3"
  },
  "language_info": {
   "codemirror_mode": {
    "name": "ipython",
    "version": 3
   },
   "file_extension": ".py",
   "mimetype": "text/x-python",
   "name": "python",
   "nbconvert_exporter": "python",
   "pygments_lexer": "ipython3",
   "version": "3.13.3"
  }
 },
 "nbformat": 4,
 "nbformat_minor": 5
}
